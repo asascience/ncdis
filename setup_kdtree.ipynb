{
 "cells": [
  {
   "cell_type": "code",
   "execution_count": 1,
   "id": "f7ad3fb8-c2ca-4c14-afbd-31c3b46ad915",
   "metadata": {},
   "outputs": [],
   "source": [
    "\n",
    "import scipy.spatial as sp\n",
    "import numpy as np"
   ]
  },
  {
   "cell_type": "code",
   "execution_count": null,
   "id": "489a6ad4-2550-49b7-97f4-f3da08b5eb27",
   "metadata": {},
   "outputs": [],
   "source": [
    "def area(x1, y1, x2, y2, x3, y3):\n",
    " \n",
    "    return (abs((x1 * (y2 - y3) + x2 * (y3 - y1)\n",
    "                + x3 * (y1 - y2)) / 2.0))"
   ]
  },
  {
   "cell_type": "code",
   "execution_count": 1,
   "id": "9bec17b8-8bf6-4335-b320-9aed0a28b45b",
   "metadata": {},
   "outputs": [],
   "source": [
    "def define_kd_tree(ds):\n",
    "    e = (ds.element.values.astype(int) - 1)\n",
    "\n",
    "    num_elems = len(e)\n",
    "    x_vals = ds.x.values\n",
    "    y_vals = ds.y.values\n",
    "\n",
    "    xe=np.mean(x_vals[e],axis=1)\n",
    "    ye=np.mean(y_vals[e],axis=1)\n",
    "    tree = sp.KDTree(np.c_[xe,ye])\n",
    "\n",
    "    areas = [area(x_vals[e[k][0]],y_vals[e[k][0]],\\\n",
    "                  x_vals[e[k][1]],y_vals[e[k][1]],\\\n",
    "                  x_vals[e[k][2]],y_vals[e[k][2]])for k in range(0, num_elems)]\n",
    "    return tree, areas, e, x_vals, y_vals"
   ]
  },
  {
   "cell_type": "code",
   "execution_count": null,
   "id": "4b7302fd-6e74-4ef7-9ebc-d3368d1ce3f1",
   "metadata": {},
   "outputs": [],
   "source": []
  }
 ],
 "metadata": {
  "kernelspec": {
   "display_name": "nebari-git-nebari-git-dask-analysis",
   "language": "python",
   "name": "conda-env-nebari-git-nebari-git-dask-analysis-py"
  },
  "language_info": {
   "codemirror_mode": {
    "name": "ipython",
    "version": 3
   },
   "file_extension": ".py",
   "mimetype": "text/x-python",
   "name": "python",
   "nbconvert_exporter": "python",
   "pygments_lexer": "ipython3",
   "version": "3.9.16"
  }
 },
 "nbformat": 4,
 "nbformat_minor": 5
}
