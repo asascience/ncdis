{
 "cells": [
  {
   "cell_type": "code",
   "execution_count": null,
   "id": "3f4f285f-a7ea-4df1-8302-a3ecbed33363",
   "metadata": {},
   "outputs": [],
   "source": [
    "\n"
   ]
  },
  {
   "cell_type": "code",
   "execution_count": null,
   "id": "4c0e5f06-be89-4c88-8531-d8c04b1fceea",
   "metadata": {},
   "outputs": [],
   "source": [
    "\n",
    "\n",
    "def find_triangle(x_vals, y_vals, e,lat,lon):\n",
    "    k = 10\n",
    "    dist, ii = tree.query([lon,lat],k=k)\n",
    "\n",
    "    triangle_i = -1\n",
    "\n",
    "    for i in range(0,k):\n",
    "\n",
    "      a1 = area(lon,lat,\\\n",
    "                x_vals[e[ii[i]][0]],y_vals[e[ii[i]][0]],\\\n",
    "                x_vals[e[ii[i]][1]],y_vals[e[ii[i]][1]])\n",
    "\n",
    "      a2 = area(lon,lat,\\\n",
    "                x_vals[e[ii[i]][1]],y_vals[e[ii[i]][1]],\\\n",
    "                x_vals[e[ii[i]][2]],y_vals[e[ii[i]][2]])\n",
    "      a3 = area(lon,lat,\\\n",
    "                x_vals[e[ii[i]][0]],y_vals[e[ii][i][0]],\\\n",
    "                x_vals[e[ii[i]][2]],y_vals[e[ii][i][2]])\n",
    "\n",
    "      t_area = a1 + a2 + a3\n",
    "      if abs(t_area - areas[ii[i]]) < 0.00000001:\n",
    "        triangle_i = ii[i]\n",
    "        break\n",
    "    if(triangle_i == -1):\n",
    "        print(\"ERROR for \" ,lat,lon)\n",
    "    return triangle_i"
   ]
  },
  {
   "cell_type": "code",
   "execution_count": null,
   "id": "bf1b07cd-95d6-4388-a937-60f7b6688742",
   "metadata": {},
   "outputs": [],
   "source": []
  }
 ],
 "metadata": {
  "kernelspec": {
   "display_name": "nebari-git-nebari-git-dask-analysis",
   "language": "python",
   "name": "conda-env-nebari-git-nebari-git-dask-analysis-py"
  },
  "language_info": {
   "codemirror_mode": {
    "name": "ipython",
    "version": 3
   },
   "file_extension": ".py",
   "mimetype": "text/x-python",
   "name": "python",
   "nbconvert_exporter": "python",
   "pygments_lexer": "ipython3",
   "version": "3.9.16"
  }
 },
 "nbformat": 4,
 "nbformat_minor": 5
}
