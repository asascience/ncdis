{
 "cells": [
  {
   "cell_type": "code",
   "execution_count": null,
   "id": "5b1a069a-9897-400a-ae7d-a54ce1b1a6de",
   "metadata": {},
   "outputs": [],
   "source": [
    "def shutdown_clusters():\n",
    "    from dask_gateway import Gateway\n",
    "    gateway = Gateway()\n",
    "    for c in gateway.list_clusters():\n",
    "        print(\"Shutting down\",c.name)\n",
    "        gateway.connect(c.name).close(shutdown=True)\n",
    "        "
   ]
  }
 ],
 "metadata": {
  "kernelspec": {
   "display_name": "nebari-git-nebari-git-dask-analysis",
   "language": "python",
   "name": "conda-env-nebari-git-nebari-git-dask-analysis-py"
  },
  "language_info": {
   "codemirror_mode": {
    "name": "ipython",
    "version": 3
   },
   "file_extension": ".py",
   "mimetype": "text/x-python",
   "name": "python",
   "nbconvert_exporter": "python",
   "pygments_lexer": "ipython3",
   "version": "3.9.16"
  }
 },
 "nbformat": 4,
 "nbformat_minor": 5
}
