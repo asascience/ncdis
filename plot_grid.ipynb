{
 "cells": [
  {
   "cell_type": "code",
   "execution_count": null,
   "id": "e13fc01c-f5d3-46f7-9bbb-c5f44b9d6379",
   "metadata": {},
   "outputs": [],
   "source": [
    "import geoviews as gv\n",
    "import hvplot.xarray\n",
    "import holoviews.operation.datashader as dshade\n",
    "import pandas as pd\n",
    "\n",
    "def plot_gridded_output(title,grid, color_map,width, height):\n",
    "    dshade.datashade.precompute = True\n",
    "\n",
    "    v = np.vstack((grid.x,grid.y, grid)).T\n",
    "    verts = pd.DataFrame(v, columns=['x','y','vmax'])\n",
    "    points = gv.operation.project_points(gv.Points(verts, vdims=['vmax']))\n",
    "    tris = pd.DataFrame(ds['element'].values.astype('int')-1, columns=['v0','v1','v2'])\n",
    "    tiles = gv.tile_sources.OSM\n",
    "    trimesh = gv.TriMesh((tris, points), label=title)\n",
    "    mesh = dshade.rasterize(trimesh).opts(cmap=color_map, colorbar=True, width=width, height=height)\n",
    "    return tiles * mesh"
   ]
  }
 ],
 "metadata": {
  "kernelspec": {
   "display_name": "nebari-git-nebari-git-dask-analysis",
   "language": "python",
   "name": "conda-env-nebari-git-nebari-git-dask-analysis-py"
  },
  "language_info": {
   "codemirror_mode": {
    "name": "ipython",
    "version": 3
   },
   "file_extension": ".py",
   "mimetype": "text/x-python",
   "name": "python",
   "nbconvert_exporter": "python",
   "pygments_lexer": "ipython3",
   "version": "3.9.16"
  }
 },
 "nbformat": 4,
 "nbformat_minor": 5
}
