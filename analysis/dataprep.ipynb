{
 "cells": [
  {
   "cell_type": "code",
   "execution_count": 4,
   "metadata": {},
   "outputs": [
    {
     "data": {
      "text/plain": [
       "'1980-01-01 00:00:00'"
      ]
     },
     "execution_count": 4,
     "metadata": {},
     "output_type": "execute_result"
    }
   ],
   "source": [
    "import pandas as pd\n",
    "\n",
    "data = pd.read_csv('1612340_19800101_20221231.csv')\n",
    "st = data['datetime'].iloc[0]\n",
    "st"
   ]
  },
  {
   "cell_type": "code",
   "execution_count": 6,
   "metadata": {},
   "outputs": [
    {
     "data": {
      "text/plain": [
       "0         1980-01-01 00:00:00\n",
       "1         1980-01-01 01:00:00\n",
       "2         1980-01-01 02:00:00\n",
       "3         1980-01-01 03:00:00\n",
       "4         1980-01-01 04:00:00\n",
       "                 ...         \n",
       "376939    2022-12-31 19:00:00\n",
       "376940    2022-12-31 20:00:00\n",
       "376941    2022-12-31 21:00:00\n",
       "376942    2022-12-31 22:00:00\n",
       "376943    2022-12-31 23:00:00\n",
       "Name: datetime, Length: 376944, dtype: object"
      ]
     },
     "execution_count": 6,
     "metadata": {},
     "output_type": "execute_result"
    }
   ],
   "source": [
    "t = data['datetime']\n",
    "t"
   ]
  },
  {
   "cell_type": "code",
   "execution_count": null,
   "metadata": {},
   "outputs": [],
   "source": []
  }
 ],
 "metadata": {
  "kernelspec": {
   "display_name": ".venv",
   "language": "python",
   "name": "python3"
  },
  "language_info": {
   "codemirror_mode": {
    "name": "ipython",
    "version": 3
   },
   "file_extension": ".py",
   "mimetype": "text/x-python",
   "name": "python",
   "nbconvert_exporter": "python",
   "pygments_lexer": "ipython3",
   "version": "3.10.11"
  },
  "orig_nbformat": 4
 },
 "nbformat": 4,
 "nbformat_minor": 2
}
